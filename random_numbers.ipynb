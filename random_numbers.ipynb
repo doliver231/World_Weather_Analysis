{
 "cells": [
  {
   "cell_type": "code",
   "execution_count": 1,
   "id": "29491004",
   "metadata": {},
   "outputs": [],
   "source": [
    "# Import the random module.\n",
    "import random"
   ]
  },
  {
   "cell_type": "code",
   "execution_count": 2,
   "id": "8f0cd8aa",
   "metadata": {},
   "outputs": [
    {
     "data": {
      "text/plain": [
       "25"
      ]
     },
     "execution_count": 2,
     "metadata": {},
     "output_type": "execute_result"
    }
   ],
   "source": [
    "random.randint(-90,90)"
   ]
  },
  {
   "cell_type": "code",
   "execution_count": 3,
   "id": "5d3716a2",
   "metadata": {},
   "outputs": [
    {
     "data": {
      "text/plain": [
       "0.9779446754225016"
      ]
     },
     "execution_count": 3,
     "metadata": {},
     "output_type": "execute_result"
    }
   ],
   "source": [
    "random.random()"
   ]
  },
  {
   "cell_type": "code",
   "execution_count": 5,
   "id": "62219fde",
   "metadata": {},
   "outputs": [],
   "source": [
    "x = 1\n",
    "latitudes = []\n",
    "while x < 11:\n",
    "    random_lat = random.randint(-90, 89) + random.random()\n",
    "    latitudes.append(random_lat)\n",
    "    x += 1"
   ]
  },
  {
   "cell_type": "code",
   "execution_count": 6,
   "id": "6e4efd34",
   "metadata": {},
   "outputs": [
    {
     "data": {
      "text/plain": [
       "[-2.9306810610029985,\n",
       " 74.71154608930266,\n",
       " 52.11196544010896,\n",
       " 78.67269264548885,\n",
       " -50.471030518788595,\n",
       " 40.32232480863822,\n",
       " 73.89172879292244,\n",
       " 80.35498406985994,\n",
       " 0.16313497743068506,\n",
       " 21.155383504930118]"
      ]
     },
     "execution_count": 6,
     "metadata": {},
     "output_type": "execute_result"
    }
   ],
   "source": [
    "latitudes"
   ]
  },
  {
   "cell_type": "code",
   "execution_count": 12,
   "id": "ad408401",
   "metadata": {},
   "outputs": [
    {
     "data": {
      "text/plain": [
       "75"
      ]
     },
     "execution_count": 12,
     "metadata": {},
     "output_type": "execute_result"
    }
   ],
   "source": [
    "random.randrange(-90,90, step=5)"
   ]
  },
  {
   "cell_type": "code",
   "execution_count": 14,
   "id": "87308edc",
   "metadata": {},
   "outputs": [],
   "source": [
    "import numpy as np"
   ]
  },
  {
   "cell_type": "code",
   "execution_count": 15,
   "id": "da4376e1",
   "metadata": {},
   "outputs": [
    {
     "data": {
      "text/plain": [
       "array([-45.78393074,  45.12156419, -19.96936012,  31.05519177,\n",
       "        51.80632308, -55.26785706,   7.45161846, -49.57062854,\n",
       "        88.55983744,  44.09712186,   6.3239699 , -64.43495236,\n",
       "       -63.59769106,  87.33483554,  42.20398478, -61.16856614,\n",
       "        38.65538444, -63.39691513,  72.49090132,  76.44614644,\n",
       "         6.91505379,  44.38136527,  26.03285813, -17.08239754,\n",
       "        63.24552257,  32.48441919, -26.52546964, -18.71385803,\n",
       "       -27.43015116,  45.81157997,  26.16738893,  -4.85810871,\n",
       "       -62.98722481, -25.16360702, -26.49584023, -77.59342372,\n",
       "        36.53068348,  85.99113438,  71.9727916 , -54.70707379,\n",
       "       -37.56724738,  50.60230081, -84.44842103, -83.98756728,\n",
       "        26.77058922, -62.1535886 ,  59.62550744, -27.31138574,\n",
       "        43.9803709 ,  -1.68911754])"
      ]
     },
     "execution_count": 15,
     "metadata": {},
     "output_type": "execute_result"
    }
   ],
   "source": [
    "np.random.uniform(-90.000,90.000,size=50)"
   ]
  },
  {
   "cell_type": "code",
   "execution_count": 16,
   "id": "b079e37b",
   "metadata": {},
   "outputs": [],
   "source": [
    "# Import timeit.\n",
    "import timeit"
   ]
  },
  {
   "cell_type": "code",
   "execution_count": 17,
   "id": "5d777ccb",
   "metadata": {},
   "outputs": [
    {
     "name": "stdout",
     "output_type": "stream",
     "text": [
      "33.9 µs ± 2.57 µs per loop (mean ± std. dev. of 7 runs, 10000 loops each)\n"
     ]
    }
   ],
   "source": [
    "%timeit np.random.uniform(-90.000, 90.000, size=1500)"
   ]
  },
  {
   "cell_type": "code",
   "execution_count": 18,
   "id": "2a02c3d5",
   "metadata": {},
   "outputs": [
    {
     "name": "stdout",
     "output_type": "stream",
     "text": [
      "4.8 ms ± 289 µs per loop (mean ± std. dev. of 7 runs, 100 loops each)\n"
     ]
    }
   ],
   "source": [
    "def latitudes(size):\n",
    "    latitudes = []\n",
    "    x = 0\n",
    "    while x < (size):\n",
    "        random_lat = random.randint(-90, 90) + random.random()\n",
    "        latitudes.append(random_lat)\n",
    "        x += 1\n",
    "    return latitudes\n",
    "# Call the function with 1500.\n",
    "%timeit latitudes(1500)"
   ]
  },
  {
   "cell_type": "code",
   "execution_count": null,
   "id": "1cc965ae",
   "metadata": {},
   "outputs": [],
   "source": []
  }
 ],
 "metadata": {
  "kernelspec": {
   "display_name": "PythonData",
   "language": "python",
   "name": "pythondata"
  },
  "language_info": {
   "codemirror_mode": {
    "name": "ipython",
    "version": 3
   },
   "file_extension": ".py",
   "mimetype": "text/x-python",
   "name": "python",
   "nbconvert_exporter": "python",
   "pygments_lexer": "ipython3",
   "version": "3.7.13"
  }
 },
 "nbformat": 4,
 "nbformat_minor": 5
}
